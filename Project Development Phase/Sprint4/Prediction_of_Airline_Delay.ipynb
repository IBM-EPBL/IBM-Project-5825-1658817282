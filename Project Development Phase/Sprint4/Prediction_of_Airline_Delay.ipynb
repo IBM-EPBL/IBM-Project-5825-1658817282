{
  "metadata": {
    "kernelspec": {
      "display_name": "Python 3.10.7 64-bit (microsoft store)",
      "language": "python",
      "name": "python3"
    },
    "language_info": {
      "codemirror_mode": {
        "name": "ipython",
        "version": 3
      },
      "file_extension": ".py",
      "mimetype": "text/x-python",
      "name": "python",
      "nbconvert_exporter": "python",
      "pygments_lexer": "ipython3",
      "version": "3.10.7"
    },
    "vscode": {
      "interpreter": {
        "hash": "30570bb23df0824d61d676772e04c81e2de5f888cc786343e494ba24f11adff8"
      }
    },
    "colab": {
      "provenance": []
    }
  },
  "nbformat_minor": 0,
  "nbformat": 4,
  "cells": [
    {
      "cell_type": "code",
      "source": [
        "import numpy as np \n",
        "import pandas as pd \n",
        "import matplotlib.pyplot as plt \n",
        "import seaborn as sns\n",
        "from sklearn.metrics import accuracy_score,r2_score,confusion_matrix,classification_report,recall_score,confusion_matrix,mean_squared_error\n",
        "from sklearn.linear_model import LogisticRegression,LinearRegression\n",
        "from sklearn.model_selection import train_test_split,KFold,cross_val_score,ShuffleSplit\n",
        "from sklearn.neighbors import KNeighborsRegressor\n",
        "from sklearn.preprocessing import LabelEncoder\n",
        "import re\n",
        "from pandas_profiling import ProfileReport\n",
        "pd.set_option(\"display.precision\", 6)\n",
        "from sklearn.ensemble import RandomForestClassifier\n",
        "from sklearn.datasets import make_classification\n",
        "from sklearn.neighbors import KNeighborsClassifier\n",
        "from sklearn.tree import DecisionTreeClassifier\n"
      ],
      "metadata": {
        "id": "Qk0mt1h4VSFc"
      },
      "execution_count": 188,
      "outputs": []
    },
    {
      "cell_type": "code",
      "source": [
        "df = pd.read_csv('Jan_2020_ontime.csv')\n",
        "df.head()"
      ],
      "metadata": {
        "colab": {
          "base_uri": "https://localhost:8080/",
          "height": 317
        },
        "id": "C_MxrBcZVSFd",
        "outputId": "34028f5f-0e6d-4c3e-abc0-4c2613d4e5a3"
      },
      "execution_count": 189,
      "outputs": [
        {
          "output_type": "execute_result",
          "data": {
            "text/plain": [
              "   DAY_OF_MONTH  DAY_OF_WEEK OP_UNIQUE_CARRIER  OP_CARRIER_AIRLINE_ID  \\\n",
              "0             1            3                EV                  20366   \n",
              "1             1            3                EV                  20366   \n",
              "2             1            3                EV                  20366   \n",
              "3             1            3                EV                  20366   \n",
              "4             1            3                EV                  20366   \n",
              "\n",
              "  OP_CARRIER TAIL_NUM  OP_CARRIER_FL_NUM  ORIGIN_AIRPORT_ID  \\\n",
              "0         EV   N48901               4397              13930   \n",
              "1         EV   N16976               4401              15370   \n",
              "2         EV   N12167               4404              11618   \n",
              "3         EV   N14902               4405              10781   \n",
              "4         EV   N606UX               4407              14524   \n",
              "\n",
              "   ORIGIN_AIRPORT_SEQ_ID ORIGIN  ...  DEST  DEP_TIME DEP_DEL15  DEP_TIME_BLK  \\\n",
              "0                1393007    ORD  ...   GRB    1003.0       0.0     1000-1059   \n",
              "1                1537002    TUL  ...   ORD    1027.0       0.0     1000-1059   \n",
              "2                1161802    EWR  ...   TYS    1848.0       0.0     1800-1859   \n",
              "3                1078105    BTR  ...   IAH    1846.0       0.0     1800-1859   \n",
              "4                1452401    RIC  ...   IAH    1038.0       0.0     1000-1059   \n",
              "\n",
              "   ARR_TIME ARR_DEL15  CANCELLED  DIVERTED  DISTANCE  Unnamed: 21  \n",
              "0    1117.0       0.0        0.0       0.0     174.0          NaN  \n",
              "1    1216.0       0.0        0.0       0.0     585.0          NaN  \n",
              "2    2120.0       0.0        0.0       0.0     631.0          NaN  \n",
              "3    2004.0       0.0        0.0       0.0     253.0          NaN  \n",
              "4    1330.0       0.0        0.0       0.0    1157.0          NaN  \n",
              "\n",
              "[5 rows x 22 columns]"
            ],
            "text/html": [
              "\n",
              "  <div id=\"df-dc652006-1c23-4176-99e7-32319b261509\">\n",
              "    <div class=\"colab-df-container\">\n",
              "      <div>\n",
              "<style scoped>\n",
              "    .dataframe tbody tr th:only-of-type {\n",
              "        vertical-align: middle;\n",
              "    }\n",
              "\n",
              "    .dataframe tbody tr th {\n",
              "        vertical-align: top;\n",
              "    }\n",
              "\n",
              "    .dataframe thead th {\n",
              "        text-align: right;\n",
              "    }\n",
              "</style>\n",
              "<table border=\"1\" class=\"dataframe\">\n",
              "  <thead>\n",
              "    <tr style=\"text-align: right;\">\n",
              "      <th></th>\n",
              "      <th>DAY_OF_MONTH</th>\n",
              "      <th>DAY_OF_WEEK</th>\n",
              "      <th>OP_UNIQUE_CARRIER</th>\n",
              "      <th>OP_CARRIER_AIRLINE_ID</th>\n",
              "      <th>OP_CARRIER</th>\n",
              "      <th>TAIL_NUM</th>\n",
              "      <th>OP_CARRIER_FL_NUM</th>\n",
              "      <th>ORIGIN_AIRPORT_ID</th>\n",
              "      <th>ORIGIN_AIRPORT_SEQ_ID</th>\n",
              "      <th>ORIGIN</th>\n",
              "      <th>...</th>\n",
              "      <th>DEST</th>\n",
              "      <th>DEP_TIME</th>\n",
              "      <th>DEP_DEL15</th>\n",
              "      <th>DEP_TIME_BLK</th>\n",
              "      <th>ARR_TIME</th>\n",
              "      <th>ARR_DEL15</th>\n",
              "      <th>CANCELLED</th>\n",
              "      <th>DIVERTED</th>\n",
              "      <th>DISTANCE</th>\n",
              "      <th>Unnamed: 21</th>\n",
              "    </tr>\n",
              "  </thead>\n",
              "  <tbody>\n",
              "    <tr>\n",
              "      <th>0</th>\n",
              "      <td>1</td>\n",
              "      <td>3</td>\n",
              "      <td>EV</td>\n",
              "      <td>20366</td>\n",
              "      <td>EV</td>\n",
              "      <td>N48901</td>\n",
              "      <td>4397</td>\n",
              "      <td>13930</td>\n",
              "      <td>1393007</td>\n",
              "      <td>ORD</td>\n",
              "      <td>...</td>\n",
              "      <td>GRB</td>\n",
              "      <td>1003.0</td>\n",
              "      <td>0.0</td>\n",
              "      <td>1000-1059</td>\n",
              "      <td>1117.0</td>\n",
              "      <td>0.0</td>\n",
              "      <td>0.0</td>\n",
              "      <td>0.0</td>\n",
              "      <td>174.0</td>\n",
              "      <td>NaN</td>\n",
              "    </tr>\n",
              "    <tr>\n",
              "      <th>1</th>\n",
              "      <td>1</td>\n",
              "      <td>3</td>\n",
              "      <td>EV</td>\n",
              "      <td>20366</td>\n",
              "      <td>EV</td>\n",
              "      <td>N16976</td>\n",
              "      <td>4401</td>\n",
              "      <td>15370</td>\n",
              "      <td>1537002</td>\n",
              "      <td>TUL</td>\n",
              "      <td>...</td>\n",
              "      <td>ORD</td>\n",
              "      <td>1027.0</td>\n",
              "      <td>0.0</td>\n",
              "      <td>1000-1059</td>\n",
              "      <td>1216.0</td>\n",
              "      <td>0.0</td>\n",
              "      <td>0.0</td>\n",
              "      <td>0.0</td>\n",
              "      <td>585.0</td>\n",
              "      <td>NaN</td>\n",
              "    </tr>\n",
              "    <tr>\n",
              "      <th>2</th>\n",
              "      <td>1</td>\n",
              "      <td>3</td>\n",
              "      <td>EV</td>\n",
              "      <td>20366</td>\n",
              "      <td>EV</td>\n",
              "      <td>N12167</td>\n",
              "      <td>4404</td>\n",
              "      <td>11618</td>\n",
              "      <td>1161802</td>\n",
              "      <td>EWR</td>\n",
              "      <td>...</td>\n",
              "      <td>TYS</td>\n",
              "      <td>1848.0</td>\n",
              "      <td>0.0</td>\n",
              "      <td>1800-1859</td>\n",
              "      <td>2120.0</td>\n",
              "      <td>0.0</td>\n",
              "      <td>0.0</td>\n",
              "      <td>0.0</td>\n",
              "      <td>631.0</td>\n",
              "      <td>NaN</td>\n",
              "    </tr>\n",
              "    <tr>\n",
              "      <th>3</th>\n",
              "      <td>1</td>\n",
              "      <td>3</td>\n",
              "      <td>EV</td>\n",
              "      <td>20366</td>\n",
              "      <td>EV</td>\n",
              "      <td>N14902</td>\n",
              "      <td>4405</td>\n",
              "      <td>10781</td>\n",
              "      <td>1078105</td>\n",
              "      <td>BTR</td>\n",
              "      <td>...</td>\n",
              "      <td>IAH</td>\n",
              "      <td>1846.0</td>\n",
              "      <td>0.0</td>\n",
              "      <td>1800-1859</td>\n",
              "      <td>2004.0</td>\n",
              "      <td>0.0</td>\n",
              "      <td>0.0</td>\n",
              "      <td>0.0</td>\n",
              "      <td>253.0</td>\n",
              "      <td>NaN</td>\n",
              "    </tr>\n",
              "    <tr>\n",
              "      <th>4</th>\n",
              "      <td>1</td>\n",
              "      <td>3</td>\n",
              "      <td>EV</td>\n",
              "      <td>20366</td>\n",
              "      <td>EV</td>\n",
              "      <td>N606UX</td>\n",
              "      <td>4407</td>\n",
              "      <td>14524</td>\n",
              "      <td>1452401</td>\n",
              "      <td>RIC</td>\n",
              "      <td>...</td>\n",
              "      <td>IAH</td>\n",
              "      <td>1038.0</td>\n",
              "      <td>0.0</td>\n",
              "      <td>1000-1059</td>\n",
              "      <td>1330.0</td>\n",
              "      <td>0.0</td>\n",
              "      <td>0.0</td>\n",
              "      <td>0.0</td>\n",
              "      <td>1157.0</td>\n",
              "      <td>NaN</td>\n",
              "    </tr>\n",
              "  </tbody>\n",
              "</table>\n",
              "<p>5 rows × 22 columns</p>\n",
              "</div>\n",
              "      <button class=\"colab-df-convert\" onclick=\"convertToInteractive('df-dc652006-1c23-4176-99e7-32319b261509')\"\n",
              "              title=\"Convert this dataframe to an interactive table.\"\n",
              "              style=\"display:none;\">\n",
              "        \n",
              "  <svg xmlns=\"http://www.w3.org/2000/svg\" height=\"24px\"viewBox=\"0 0 24 24\"\n",
              "       width=\"24px\">\n",
              "    <path d=\"M0 0h24v24H0V0z\" fill=\"none\"/>\n",
              "    <path d=\"M18.56 5.44l.94 2.06.94-2.06 2.06-.94-2.06-.94-.94-2.06-.94 2.06-2.06.94zm-11 1L8.5 8.5l.94-2.06 2.06-.94-2.06-.94L8.5 2.5l-.94 2.06-2.06.94zm10 10l.94 2.06.94-2.06 2.06-.94-2.06-.94-.94-2.06-.94 2.06-2.06.94z\"/><path d=\"M17.41 7.96l-1.37-1.37c-.4-.4-.92-.59-1.43-.59-.52 0-1.04.2-1.43.59L10.3 9.45l-7.72 7.72c-.78.78-.78 2.05 0 2.83L4 21.41c.39.39.9.59 1.41.59.51 0 1.02-.2 1.41-.59l7.78-7.78 2.81-2.81c.8-.78.8-2.07 0-2.86zM5.41 20L4 18.59l7.72-7.72 1.47 1.35L5.41 20z\"/>\n",
              "  </svg>\n",
              "      </button>\n",
              "      \n",
              "  <style>\n",
              "    .colab-df-container {\n",
              "      display:flex;\n",
              "      flex-wrap:wrap;\n",
              "      gap: 12px;\n",
              "    }\n",
              "\n",
              "    .colab-df-convert {\n",
              "      background-color: #E8F0FE;\n",
              "      border: none;\n",
              "      border-radius: 50%;\n",
              "      cursor: pointer;\n",
              "      display: none;\n",
              "      fill: #1967D2;\n",
              "      height: 32px;\n",
              "      padding: 0 0 0 0;\n",
              "      width: 32px;\n",
              "    }\n",
              "\n",
              "    .colab-df-convert:hover {\n",
              "      background-color: #E2EBFA;\n",
              "      box-shadow: 0px 1px 2px rgba(60, 64, 67, 0.3), 0px 1px 3px 1px rgba(60, 64, 67, 0.15);\n",
              "      fill: #174EA6;\n",
              "    }\n",
              "\n",
              "    [theme=dark] .colab-df-convert {\n",
              "      background-color: #3B4455;\n",
              "      fill: #D2E3FC;\n",
              "    }\n",
              "\n",
              "    [theme=dark] .colab-df-convert:hover {\n",
              "      background-color: #434B5C;\n",
              "      box-shadow: 0px 1px 3px 1px rgba(0, 0, 0, 0.15);\n",
              "      filter: drop-shadow(0px 1px 2px rgba(0, 0, 0, 0.3));\n",
              "      fill: #FFFFFF;\n",
              "    }\n",
              "  </style>\n",
              "\n",
              "      <script>\n",
              "        const buttonEl =\n",
              "          document.querySelector('#df-dc652006-1c23-4176-99e7-32319b261509 button.colab-df-convert');\n",
              "        buttonEl.style.display =\n",
              "          google.colab.kernel.accessAllowed ? 'block' : 'none';\n",
              "\n",
              "        async function convertToInteractive(key) {\n",
              "          const element = document.querySelector('#df-dc652006-1c23-4176-99e7-32319b261509');\n",
              "          const dataTable =\n",
              "            await google.colab.kernel.invokeFunction('convertToInteractive',\n",
              "                                                     [key], {});\n",
              "          if (!dataTable) return;\n",
              "\n",
              "          const docLinkHtml = 'Like what you see? Visit the ' +\n",
              "            '<a target=\"_blank\" href=https://colab.research.google.com/notebooks/data_table.ipynb>data table notebook</a>'\n",
              "            + ' to learn more about interactive tables.';\n",
              "          element.innerHTML = '';\n",
              "          dataTable['output_type'] = 'display_data';\n",
              "          await google.colab.output.renderOutput(dataTable, element);\n",
              "          const docLink = document.createElement('div');\n",
              "          docLink.innerHTML = docLinkHtml;\n",
              "          element.appendChild(docLink);\n",
              "        }\n",
              "      </script>\n",
              "    </div>\n",
              "  </div>\n",
              "  "
            ]
          },
          "metadata": {},
          "execution_count": 189
        }
      ]
    },
    {
      "cell_type": "code",
      "source": [
        "df.describe()"
      ],
      "metadata": {
        "colab": {
          "base_uri": "https://localhost:8080/",
          "height": 382
        },
        "id": "HiHtDErEkC8a",
        "outputId": "aa230681-1216-4c58-b146-db2220acb028"
      },
      "execution_count": 190,
      "outputs": [
        {
          "output_type": "execute_result",
          "data": {
            "text/plain": [
              "        DAY_OF_MONTH    DAY_OF_WEEK  OP_CARRIER_AIRLINE_ID  OP_CARRIER_FL_NUM  \\\n",
              "count  607346.000000  607346.000000          607346.000000      607346.000000   \n",
              "mean       16.014354       3.955735           19994.137492        2622.365261   \n",
              "std         8.990719       1.910205             375.754232        1822.545302   \n",
              "min         1.000000       1.000000           19393.000000           1.000000   \n",
              "25%         8.000000       2.000000           19790.000000        1070.000000   \n",
              "50%        16.000000       4.000000           19977.000000        2177.000000   \n",
              "75%        24.000000       5.000000           20378.000000        4108.000000   \n",
              "max        31.000000       7.000000           20452.000000        6860.000000   \n",
              "\n",
              "       ORIGIN_AIRPORT_ID  ORIGIN_AIRPORT_SEQ_ID  DEST_AIRPORT_ID  \\\n",
              "count      607346.000000           6.073460e+05    607346.000000   \n",
              "mean        12657.389167           1.265743e+06     12657.196320   \n",
              "std          1524.407203           1.524405e+05      1524.279269   \n",
              "min         10135.000000           1.013506e+06     10135.000000   \n",
              "25%         11292.000000           1.129202e+06     11292.000000   \n",
              "50%         12889.000000           1.288903e+06     12889.000000   \n",
              "75%         14027.000000           1.402702e+06     14027.000000   \n",
              "max         16869.000000           1.686901e+06     16869.000000   \n",
              "\n",
              "       DEST_AIRPORT_SEQ_ID       DEP_TIME      DEP_DEL15       ARR_TIME  \\\n",
              "count         6.073460e+05  600682.000000  600647.000000  600271.000000   \n",
              "mean          1.265724e+06    1331.512559       0.136326    1477.968924   \n",
              "std           1.524277e+05     497.095168       0.343135     525.543294   \n",
              "min           1.013506e+06       1.000000       0.000000       1.000000   \n",
              "25%           1.129202e+06     919.000000       0.000000    1058.000000   \n",
              "50%           1.288903e+06    1326.000000       0.000000    1513.000000   \n",
              "75%           1.402702e+06    1739.000000       0.000000    1918.000000   \n",
              "max           1.686901e+06    2400.000000       1.000000    2400.000000   \n",
              "\n",
              "           ARR_DEL15      CANCELLED       DIVERTED       DISTANCE  Unnamed: 21  \n",
              "count  599268.000000  607346.000000  607346.000000  607346.000000          0.0  \n",
              "mean        0.137309       0.011407       0.001893     798.022341          NaN  \n",
              "std         0.344174       0.106193       0.043473     587.282639          NaN  \n",
              "min         0.000000       0.000000       0.000000      31.000000          NaN  \n",
              "25%         0.000000       0.000000       0.000000     369.000000          NaN  \n",
              "50%         0.000000       0.000000       0.000000     641.000000          NaN  \n",
              "75%         0.000000       0.000000       0.000000    1037.000000          NaN  \n",
              "max         1.000000       1.000000       1.000000    5095.000000          NaN  "
            ],
            "text/html": [
              "\n",
              "  <div id=\"df-d1778aeb-cad1-4103-8c62-7eada8b87a3e\">\n",
              "    <div class=\"colab-df-container\">\n",
              "      <div>\n",
              "<style scoped>\n",
              "    .dataframe tbody tr th:only-of-type {\n",
              "        vertical-align: middle;\n",
              "    }\n",
              "\n",
              "    .dataframe tbody tr th {\n",
              "        vertical-align: top;\n",
              "    }\n",
              "\n",
              "    .dataframe thead th {\n",
              "        text-align: right;\n",
              "    }\n",
              "</style>\n",
              "<table border=\"1\" class=\"dataframe\">\n",
              "  <thead>\n",
              "    <tr style=\"text-align: right;\">\n",
              "      <th></th>\n",
              "      <th>DAY_OF_MONTH</th>\n",
              "      <th>DAY_OF_WEEK</th>\n",
              "      <th>OP_CARRIER_AIRLINE_ID</th>\n",
              "      <th>OP_CARRIER_FL_NUM</th>\n",
              "      <th>ORIGIN_AIRPORT_ID</th>\n",
              "      <th>ORIGIN_AIRPORT_SEQ_ID</th>\n",
              "      <th>DEST_AIRPORT_ID</th>\n",
              "      <th>DEST_AIRPORT_SEQ_ID</th>\n",
              "      <th>DEP_TIME</th>\n",
              "      <th>DEP_DEL15</th>\n",
              "      <th>ARR_TIME</th>\n",
              "      <th>ARR_DEL15</th>\n",
              "      <th>CANCELLED</th>\n",
              "      <th>DIVERTED</th>\n",
              "      <th>DISTANCE</th>\n",
              "      <th>Unnamed: 21</th>\n",
              "    </tr>\n",
              "  </thead>\n",
              "  <tbody>\n",
              "    <tr>\n",
              "      <th>count</th>\n",
              "      <td>607346.000000</td>\n",
              "      <td>607346.000000</td>\n",
              "      <td>607346.000000</td>\n",
              "      <td>607346.000000</td>\n",
              "      <td>607346.000000</td>\n",
              "      <td>6.073460e+05</td>\n",
              "      <td>607346.000000</td>\n",
              "      <td>6.073460e+05</td>\n",
              "      <td>600682.000000</td>\n",
              "      <td>600647.000000</td>\n",
              "      <td>600271.000000</td>\n",
              "      <td>599268.000000</td>\n",
              "      <td>607346.000000</td>\n",
              "      <td>607346.000000</td>\n",
              "      <td>607346.000000</td>\n",
              "      <td>0.0</td>\n",
              "    </tr>\n",
              "    <tr>\n",
              "      <th>mean</th>\n",
              "      <td>16.014354</td>\n",
              "      <td>3.955735</td>\n",
              "      <td>19994.137492</td>\n",
              "      <td>2622.365261</td>\n",
              "      <td>12657.389167</td>\n",
              "      <td>1.265743e+06</td>\n",
              "      <td>12657.196320</td>\n",
              "      <td>1.265724e+06</td>\n",
              "      <td>1331.512559</td>\n",
              "      <td>0.136326</td>\n",
              "      <td>1477.968924</td>\n",
              "      <td>0.137309</td>\n",
              "      <td>0.011407</td>\n",
              "      <td>0.001893</td>\n",
              "      <td>798.022341</td>\n",
              "      <td>NaN</td>\n",
              "    </tr>\n",
              "    <tr>\n",
              "      <th>std</th>\n",
              "      <td>8.990719</td>\n",
              "      <td>1.910205</td>\n",
              "      <td>375.754232</td>\n",
              "      <td>1822.545302</td>\n",
              "      <td>1524.407203</td>\n",
              "      <td>1.524405e+05</td>\n",
              "      <td>1524.279269</td>\n",
              "      <td>1.524277e+05</td>\n",
              "      <td>497.095168</td>\n",
              "      <td>0.343135</td>\n",
              "      <td>525.543294</td>\n",
              "      <td>0.344174</td>\n",
              "      <td>0.106193</td>\n",
              "      <td>0.043473</td>\n",
              "      <td>587.282639</td>\n",
              "      <td>NaN</td>\n",
              "    </tr>\n",
              "    <tr>\n",
              "      <th>min</th>\n",
              "      <td>1.000000</td>\n",
              "      <td>1.000000</td>\n",
              "      <td>19393.000000</td>\n",
              "      <td>1.000000</td>\n",
              "      <td>10135.000000</td>\n",
              "      <td>1.013506e+06</td>\n",
              "      <td>10135.000000</td>\n",
              "      <td>1.013506e+06</td>\n",
              "      <td>1.000000</td>\n",
              "      <td>0.000000</td>\n",
              "      <td>1.000000</td>\n",
              "      <td>0.000000</td>\n",
              "      <td>0.000000</td>\n",
              "      <td>0.000000</td>\n",
              "      <td>31.000000</td>\n",
              "      <td>NaN</td>\n",
              "    </tr>\n",
              "    <tr>\n",
              "      <th>25%</th>\n",
              "      <td>8.000000</td>\n",
              "      <td>2.000000</td>\n",
              "      <td>19790.000000</td>\n",
              "      <td>1070.000000</td>\n",
              "      <td>11292.000000</td>\n",
              "      <td>1.129202e+06</td>\n",
              "      <td>11292.000000</td>\n",
              "      <td>1.129202e+06</td>\n",
              "      <td>919.000000</td>\n",
              "      <td>0.000000</td>\n",
              "      <td>1058.000000</td>\n",
              "      <td>0.000000</td>\n",
              "      <td>0.000000</td>\n",
              "      <td>0.000000</td>\n",
              "      <td>369.000000</td>\n",
              "      <td>NaN</td>\n",
              "    </tr>\n",
              "    <tr>\n",
              "      <th>50%</th>\n",
              "      <td>16.000000</td>\n",
              "      <td>4.000000</td>\n",
              "      <td>19977.000000</td>\n",
              "      <td>2177.000000</td>\n",
              "      <td>12889.000000</td>\n",
              "      <td>1.288903e+06</td>\n",
              "      <td>12889.000000</td>\n",
              "      <td>1.288903e+06</td>\n",
              "      <td>1326.000000</td>\n",
              "      <td>0.000000</td>\n",
              "      <td>1513.000000</td>\n",
              "      <td>0.000000</td>\n",
              "      <td>0.000000</td>\n",
              "      <td>0.000000</td>\n",
              "      <td>641.000000</td>\n",
              "      <td>NaN</td>\n",
              "    </tr>\n",
              "    <tr>\n",
              "      <th>75%</th>\n",
              "      <td>24.000000</td>\n",
              "      <td>5.000000</td>\n",
              "      <td>20378.000000</td>\n",
              "      <td>4108.000000</td>\n",
              "      <td>14027.000000</td>\n",
              "      <td>1.402702e+06</td>\n",
              "      <td>14027.000000</td>\n",
              "      <td>1.402702e+06</td>\n",
              "      <td>1739.000000</td>\n",
              "      <td>0.000000</td>\n",
              "      <td>1918.000000</td>\n",
              "      <td>0.000000</td>\n",
              "      <td>0.000000</td>\n",
              "      <td>0.000000</td>\n",
              "      <td>1037.000000</td>\n",
              "      <td>NaN</td>\n",
              "    </tr>\n",
              "    <tr>\n",
              "      <th>max</th>\n",
              "      <td>31.000000</td>\n",
              "      <td>7.000000</td>\n",
              "      <td>20452.000000</td>\n",
              "      <td>6860.000000</td>\n",
              "      <td>16869.000000</td>\n",
              "      <td>1.686901e+06</td>\n",
              "      <td>16869.000000</td>\n",
              "      <td>1.686901e+06</td>\n",
              "      <td>2400.000000</td>\n",
              "      <td>1.000000</td>\n",
              "      <td>2400.000000</td>\n",
              "      <td>1.000000</td>\n",
              "      <td>1.000000</td>\n",
              "      <td>1.000000</td>\n",
              "      <td>5095.000000</td>\n",
              "      <td>NaN</td>\n",
              "    </tr>\n",
              "  </tbody>\n",
              "</table>\n",
              "</div>\n",
              "      <button class=\"colab-df-convert\" onclick=\"convertToInteractive('df-d1778aeb-cad1-4103-8c62-7eada8b87a3e')\"\n",
              "              title=\"Convert this dataframe to an interactive table.\"\n",
              "              style=\"display:none;\">\n",
              "        \n",
              "  <svg xmlns=\"http://www.w3.org/2000/svg\" height=\"24px\"viewBox=\"0 0 24 24\"\n",
              "       width=\"24px\">\n",
              "    <path d=\"M0 0h24v24H0V0z\" fill=\"none\"/>\n",
              "    <path d=\"M18.56 5.44l.94 2.06.94-2.06 2.06-.94-2.06-.94-.94-2.06-.94 2.06-2.06.94zm-11 1L8.5 8.5l.94-2.06 2.06-.94-2.06-.94L8.5 2.5l-.94 2.06-2.06.94zm10 10l.94 2.06.94-2.06 2.06-.94-2.06-.94-.94-2.06-.94 2.06-2.06.94z\"/><path d=\"M17.41 7.96l-1.37-1.37c-.4-.4-.92-.59-1.43-.59-.52 0-1.04.2-1.43.59L10.3 9.45l-7.72 7.72c-.78.78-.78 2.05 0 2.83L4 21.41c.39.39.9.59 1.41.59.51 0 1.02-.2 1.41-.59l7.78-7.78 2.81-2.81c.8-.78.8-2.07 0-2.86zM5.41 20L4 18.59l7.72-7.72 1.47 1.35L5.41 20z\"/>\n",
              "  </svg>\n",
              "      </button>\n",
              "      \n",
              "  <style>\n",
              "    .colab-df-container {\n",
              "      display:flex;\n",
              "      flex-wrap:wrap;\n",
              "      gap: 12px;\n",
              "    }\n",
              "\n",
              "    .colab-df-convert {\n",
              "      background-color: #E8F0FE;\n",
              "      border: none;\n",
              "      border-radius: 50%;\n",
              "      cursor: pointer;\n",
              "      display: none;\n",
              "      fill: #1967D2;\n",
              "      height: 32px;\n",
              "      padding: 0 0 0 0;\n",
              "      width: 32px;\n",
              "    }\n",
              "\n",
              "    .colab-df-convert:hover {\n",
              "      background-color: #E2EBFA;\n",
              "      box-shadow: 0px 1px 2px rgba(60, 64, 67, 0.3), 0px 1px 3px 1px rgba(60, 64, 67, 0.15);\n",
              "      fill: #174EA6;\n",
              "    }\n",
              "\n",
              "    [theme=dark] .colab-df-convert {\n",
              "      background-color: #3B4455;\n",
              "      fill: #D2E3FC;\n",
              "    }\n",
              "\n",
              "    [theme=dark] .colab-df-convert:hover {\n",
              "      background-color: #434B5C;\n",
              "      box-shadow: 0px 1px 3px 1px rgba(0, 0, 0, 0.15);\n",
              "      filter: drop-shadow(0px 1px 2px rgba(0, 0, 0, 0.3));\n",
              "      fill: #FFFFFF;\n",
              "    }\n",
              "  </style>\n",
              "\n",
              "      <script>\n",
              "        const buttonEl =\n",
              "          document.querySelector('#df-d1778aeb-cad1-4103-8c62-7eada8b87a3e button.colab-df-convert');\n",
              "        buttonEl.style.display =\n",
              "          google.colab.kernel.accessAllowed ? 'block' : 'none';\n",
              "\n",
              "        async function convertToInteractive(key) {\n",
              "          const element = document.querySelector('#df-d1778aeb-cad1-4103-8c62-7eada8b87a3e');\n",
              "          const dataTable =\n",
              "            await google.colab.kernel.invokeFunction('convertToInteractive',\n",
              "                                                     [key], {});\n",
              "          if (!dataTable) return;\n",
              "\n",
              "          const docLinkHtml = 'Like what you see? Visit the ' +\n",
              "            '<a target=\"_blank\" href=https://colab.research.google.com/notebooks/data_table.ipynb>data table notebook</a>'\n",
              "            + ' to learn more about interactive tables.';\n",
              "          element.innerHTML = '';\n",
              "          dataTable['output_type'] = 'display_data';\n",
              "          await google.colab.output.renderOutput(dataTable, element);\n",
              "          const docLink = document.createElement('div');\n",
              "          docLink.innerHTML = docLinkHtml;\n",
              "          element.appendChild(docLink);\n",
              "        }\n",
              "      </script>\n",
              "    </div>\n",
              "  </div>\n",
              "  "
            ]
          },
          "metadata": {},
          "execution_count": 190
        }
      ]
    },
    {
      "cell_type": "code",
      "source": [
        "# comnbining the arrival and departure delay in one column \n",
        "df['DELAYED'] = (df['ARR_DEL15'].astype(bool) | df['DEP_DEL15'].astype(bool)).astype(int)"
      ],
      "metadata": {
        "id": "U4jGX6dHkT9F"
      },
      "execution_count": 191,
      "outputs": []
    },
    {
      "cell_type": "code",
      "source": [
        "# dropping unuseful columns\n",
        "df.drop(['OP_CARRIER_AIRLINE_ID','TAIL_NUM','OP_CARRIER_FL_NUM','ORIGIN_AIRPORT_ID','ORIGIN_AIRPORT_SEQ_ID','DEST_AIRPORT_ID','DEST_AIRPORT_SEQ_ID','Unnamed: 21','OP_CARRIER','ARR_DEL15','DEP_DEL15','CANCELLED', 'DIVERTED'], axis=1, inplace=True)"
      ],
      "metadata": {
        "id": "T_LU4S3JjbWF"
      },
      "execution_count": 192,
      "outputs": []
    },
    {
      "cell_type": "code",
      "source": [
        "# getting the object columns\n",
        "strings_columns =  list(df.dtypes[df.dtypes == 'object'].index)\n",
        "print(f\"The number of string columns is: {len(strings_columns)}\")\n",
        "    \n",
        "# getting int or float columns\n",
        "numeric_columns = list(df.drop(strings_columns,axis=1))\n",
        "print(f\"The number of numeric columns is: {len(numeric_columns)}\")\n"
      ],
      "metadata": {
        "colab": {
          "base_uri": "https://localhost:8080/"
        },
        "id": "QqxHU7xLVSFf",
        "outputId": "1de771d3-e55b-446d-a995-f18c4cd98a94"
      },
      "execution_count": 193,
      "outputs": [
        {
          "output_type": "stream",
          "name": "stdout",
          "text": [
            "The number of string columns is: 4\n",
            "The number of numeric columns is: 6\n"
          ]
        }
      ]
    },
    {
      "cell_type": "code",
      "source": [
        "df.isna().sum() "
      ],
      "metadata": {
        "colab": {
          "base_uri": "https://localhost:8080/"
        },
        "id": "qnovj33HVSFg",
        "outputId": "1cb2f38e-55f3-461a-dd30-88d21b93bd10"
      },
      "execution_count": 194,
      "outputs": [
        {
          "output_type": "execute_result",
          "data": {
            "text/plain": [
              "DAY_OF_MONTH            0\n",
              "DAY_OF_WEEK             0\n",
              "OP_UNIQUE_CARRIER       0\n",
              "ORIGIN                  0\n",
              "DEST                    0\n",
              "DEP_TIME             6664\n",
              "DEP_TIME_BLK            0\n",
              "ARR_TIME             7075\n",
              "DISTANCE                0\n",
              "DELAYED                 0\n",
              "dtype: int64"
            ]
          },
          "metadata": {},
          "execution_count": 194
        }
      ]
    },
    {
      "cell_type": "code",
      "source": [
        "df.dropna(inplace=True)\n",
        "df.isna().any()"
      ],
      "metadata": {
        "colab": {
          "base_uri": "https://localhost:8080/"
        },
        "id": "mAg3K58nVSFg",
        "outputId": "ab54a683-13cc-4252-8ed5-1a71f90c3500"
      },
      "execution_count": 195,
      "outputs": [
        {
          "output_type": "execute_result",
          "data": {
            "text/plain": [
              "DAY_OF_MONTH         False\n",
              "DAY_OF_WEEK          False\n",
              "OP_UNIQUE_CARRIER    False\n",
              "ORIGIN               False\n",
              "DEST                 False\n",
              "DEP_TIME             False\n",
              "DEP_TIME_BLK         False\n",
              "ARR_TIME             False\n",
              "DISTANCE             False\n",
              "DELAYED              False\n",
              "dtype: bool"
            ]
          },
          "metadata": {},
          "execution_count": 195
        }
      ]
    },
    {
      "cell_type": "code",
      "source": [
        "df.shape"
      ],
      "metadata": {
        "colab": {
          "base_uri": "https://localhost:8080/"
        },
        "id": "t0nb1ETdVSFg",
        "outputId": "97c45342-6b51-41bc-e06a-0bfad459989f"
      },
      "execution_count": 196,
      "outputs": [
        {
          "output_type": "execute_result",
          "data": {
            "text/plain": [
              "(600271, 10)"
            ]
          },
          "metadata": {},
          "execution_count": 196
        }
      ]
    },
    {
      "cell_type": "code",
      "source": [
        "df.duplicated().sum()"
      ],
      "metadata": {
        "colab": {
          "base_uri": "https://localhost:8080/"
        },
        "id": "BLpgsfwZVSFh",
        "outputId": "2d972360-f742-4206-ccaa-42167d457628"
      },
      "execution_count": 197,
      "outputs": [
        {
          "output_type": "execute_result",
          "data": {
            "text/plain": [
              "1"
            ]
          },
          "metadata": {},
          "execution_count": 197
        }
      ]
    },
    {
      "cell_type": "code",
      "source": [
        "df.drop_duplicates(inplace=True)\n",
        "df.duplicated().sum()"
      ],
      "metadata": {
        "colab": {
          "base_uri": "https://localhost:8080/"
        },
        "id": "AzBPK73MVSFh",
        "outputId": "f35382da-7350-41ac-cc9d-93bdfbdc40e7"
      },
      "execution_count": 198,
      "outputs": [
        {
          "output_type": "execute_result",
          "data": {
            "text/plain": [
              "0"
            ]
          },
          "metadata": {},
          "execution_count": 198
        }
      ]
    },
    {
      "cell_type": "markdown",
      "source": [
        "## function to check outliers with box plot"
      ],
      "metadata": {
        "id": "mOkakNBGVSFi"
      }
    },
    {
      "cell_type": "code",
      "source": [
        "def check_outliers(df):\n",
        "    for col in numeric_columns:\n",
        "        fig,ax= plt.subplots(figsize=(10,5))\n",
        "        plt.grid()\n",
        "        sns.boxplot(x = df[col])\n",
        "        plt.show()\n"
      ],
      "metadata": {
        "id": "UbP7PX-6VSFi"
      },
      "execution_count": 199,
      "outputs": []
    },
    {
      "cell_type": "markdown",
      "source": [
        "## Function to replace outliers with mean"
      ],
      "metadata": {
        "id": "97ywKMVNVSFi"
      }
    },
    {
      "cell_type": "code",
      "source": [
        "def replace_outliers(df):\n",
        "    for column in numeric_columns:\n",
        "        q1 = df[column].quantile(0.25)\n",
        "        q3 = df[column].quantile(0.75)\n",
        "        iqr = q3-q1\n",
        "        upper_lim = q3 + 1.5 * iqr\n",
        "        lower_lim = q1 - 1.5 * iqr\n",
        "        column_mean = df[column].mean()\n",
        "        outliers_down = (df[column] < lower_lim)\n",
        "        outliers_up = (df[column] > upper_lim)\n",
        "        df[column] = np.where((df[column] > upper_lim) | (df[column] < lower_lim) , column_mean, df[column])\n",
        "        df[column] = pd.DataFrame(df[column],columns=[column])\n",
        "    return (df)\n",
        "#replace_outliers(df)"
      ],
      "metadata": {
        "id": "rvaaLpshVSFi"
      },
      "execution_count": 200,
      "outputs": []
    },
    {
      "cell_type": "code",
      "source": [
        "def encode_categories(features):\n",
        "    lb_make = LabelEncoder()\n",
        "    for i in range(len(features)):\n",
        "        df[features[i]] = lb_make.fit_transform(df[features[i]])"
      ],
      "metadata": {
        "id": "lUGXCePiVSFj"
      },
      "execution_count": 201,
      "outputs": []
    },
    {
      "cell_type": "markdown",
      "source": [
        "## after preparing data, we have to make the final check before entering modeling phase"
      ],
      "metadata": {
        "id": "OmzZyEHlVSFj"
      }
    },
    {
      "cell_type": "code",
      "source": [
        "df.isna().sum()"
      ],
      "metadata": {
        "colab": {
          "base_uri": "https://localhost:8080/"
        },
        "id": "MtGWXPAAVSFj",
        "outputId": "eb43bdaf-6d63-4942-e41b-f5898a2ca377"
      },
      "execution_count": 202,
      "outputs": [
        {
          "output_type": "execute_result",
          "data": {
            "text/plain": [
              "DAY_OF_MONTH         0\n",
              "DAY_OF_WEEK          0\n",
              "OP_UNIQUE_CARRIER    0\n",
              "ORIGIN               0\n",
              "DEST                 0\n",
              "DEP_TIME             0\n",
              "DEP_TIME_BLK         0\n",
              "ARR_TIME             0\n",
              "DISTANCE             0\n",
              "DELAYED              0\n",
              "dtype: int64"
            ]
          },
          "metadata": {},
          "execution_count": 202
        }
      ]
    },
    {
      "cell_type": "code",
      "source": [
        "df.duplicated().sum()"
      ],
      "metadata": {
        "colab": {
          "base_uri": "https://localhost:8080/"
        },
        "id": "pIRtmLyfVSFj",
        "outputId": "8eb3bdbe-0afe-4cef-afcc-be16281f0acb"
      },
      "execution_count": 203,
      "outputs": [
        {
          "output_type": "execute_result",
          "data": {
            "text/plain": [
              "0"
            ]
          },
          "metadata": {},
          "execution_count": 203
        }
      ]
    },
    {
      "cell_type": "code",
      "source": [
        "check_outliers(df)"
      ],
      "metadata": {
        "colab": {
          "base_uri": "https://localhost:8080/"
        },
        "id": "ActsxktWVSFj",
        "outputId": "dafe1821-cb31-4d81-e6c3-0c7e08ad60b9"
      },
      "execution_count": 204,
      "outputs": [
        {
          "output_type": "stream",
          "name": "stderr",
          "text": [
            "/usr/local/lib/python3.7/dist-packages/ipykernel_launcher.py:3: RuntimeWarning: More than 20 figures have been opened. Figures created through the pyplot interface (`matplotlib.pyplot.figure`) are retained until explicitly closed and may consume too much memory. (To control this warning, see the rcParam `figure.max_open_warning`).\n",
            "  This is separate from the ipykernel package so we can avoid doing imports until\n",
            "/usr/local/lib/python3.7/dist-packages/ipykernel_launcher.py:3: RuntimeWarning: More than 20 figures have been opened. Figures created through the pyplot interface (`matplotlib.pyplot.figure`) are retained until explicitly closed and may consume too much memory. (To control this warning, see the rcParam `figure.max_open_warning`).\n",
            "  This is separate from the ipykernel package so we can avoid doing imports until\n",
            "/usr/local/lib/python3.7/dist-packages/ipykernel_launcher.py:3: RuntimeWarning: More than 20 figures have been opened. Figures created through the pyplot interface (`matplotlib.pyplot.figure`) are retained until explicitly closed and may consume too much memory. (To control this warning, see the rcParam `figure.max_open_warning`).\n",
            "  This is separate from the ipykernel package so we can avoid doing imports until\n",
            "/usr/local/lib/python3.7/dist-packages/ipykernel_launcher.py:3: RuntimeWarning: More than 20 figures have been opened. Figures created through the pyplot interface (`matplotlib.pyplot.figure`) are retained until explicitly closed and may consume too much memory. (To control this warning, see the rcParam `figure.max_open_warning`).\n",
            "  This is separate from the ipykernel package so we can avoid doing imports until\n",
            "/usr/local/lib/python3.7/dist-packages/ipykernel_launcher.py:3: RuntimeWarning: More than 20 figures have been opened. Figures created through the pyplot interface (`matplotlib.pyplot.figure`) are retained until explicitly closed and may consume too much memory. (To control this warning, see the rcParam `figure.max_open_warning`).\n",
            "  This is separate from the ipykernel package so we can avoid doing imports until\n",
            "/usr/local/lib/python3.7/dist-packages/ipykernel_launcher.py:3: RuntimeWarning: More than 20 figures have been opened. Figures created through the pyplot interface (`matplotlib.pyplot.figure`) are retained until explicitly closed and may consume too much memory. (To control this warning, see the rcParam `figure.max_open_warning`).\n",
            "  This is separate from the ipykernel package so we can avoid doing imports until\n"
          ]
        }
      ]
    },
    {
      "cell_type": "code",
      "source": [
        "encode_categories(['OP_UNIQUE_CARRIER' , 'ORIGIN' , 'DEST' , 'DEP_TIME_BLK'])"
      ],
      "metadata": {
        "id": "iiyaFg6_VSFk"
      },
      "execution_count": 205,
      "outputs": []
    },
    {
      "cell_type": "code",
      "source": [
        "df.info()"
      ],
      "metadata": {
        "colab": {
          "base_uri": "https://localhost:8080/"
        },
        "id": "SKTV2UTCVSFk",
        "outputId": "0f81b357-bf81-431d-c361-754723e97986"
      },
      "execution_count": 206,
      "outputs": [
        {
          "output_type": "stream",
          "name": "stdout",
          "text": [
            "<class 'pandas.core.frame.DataFrame'>\n",
            "Int64Index: 600270 entries, 0 to 607345\n",
            "Data columns (total 10 columns):\n",
            " #   Column             Non-Null Count   Dtype  \n",
            "---  ------             --------------   -----  \n",
            " 0   DAY_OF_MONTH       600270 non-null  int64  \n",
            " 1   DAY_OF_WEEK        600270 non-null  int64  \n",
            " 2   OP_UNIQUE_CARRIER  600270 non-null  int64  \n",
            " 3   ORIGIN             600270 non-null  int64  \n",
            " 4   DEST               600270 non-null  int64  \n",
            " 5   DEP_TIME           600270 non-null  float64\n",
            " 6   DEP_TIME_BLK       600270 non-null  int64  \n",
            " 7   ARR_TIME           600270 non-null  float64\n",
            " 8   DISTANCE           600270 non-null  float64\n",
            " 9   DELAYED            600270 non-null  int64  \n",
            "dtypes: float64(3), int64(7)\n",
            "memory usage: 50.4 MB\n"
          ]
        }
      ]
    },
    {
      "cell_type": "markdown",
      "source": [
        "## Modeling"
      ],
      "metadata": {
        "id": "LrIw-g2GVSFk"
      }
    },
    {
      "cell_type": "code",
      "source": [
        "X = df.drop('DELAYED',axis=1)\n",
        "y = df['DELAYED']"
      ],
      "metadata": {
        "id": "acJ7TW38VSFk"
      },
      "execution_count": 207,
      "outputs": []
    },
    {
      "cell_type": "code",
      "source": [
        "x_train, x_test, y_train, y_test = train_test_split(X, y, test_size = 0.3,random_state=42)"
      ],
      "metadata": {
        "id": "SjHY05dHVSFl"
      },
      "execution_count": 208,
      "outputs": []
    },
    {
      "cell_type": "code",
      "source": [
        "models = []\n",
        "models.append(('LogisticRegression', LogisticRegression()))\n",
        "models.append(('RandomForest', RandomForestClassifier(n_estimators=50)))\n",
        "models.append(('Decision Tree', DecisionTreeClassifier()))\n",
        "models.append(('KNN', KNeighborsClassifier(n_neighbors = 5)))\n"
      ],
      "metadata": {
        "id": "-mCeBwrGVSFl"
      },
      "execution_count": 209,
      "outputs": []
    },
    {
      "cell_type": "code",
      "source": [
        "for name, model in models:\n",
        "    \n",
        "    print(name)\n",
        "    \n",
        "    # Make predictions.\n",
        "    \n",
        "    trained_model = model.fit(x_train, y_train)\n",
        "        \n",
        "    predictions = trained_model.predict(x_test) \n",
        "    \n",
        "    print(f\"train score: {accuracy_score(y_train, trained_model.predict(x_train))}\\n\")\n",
        "    \n",
        "    print(f\"test score: {accuracy_score(predictions,y_test)}\\n\\n\")\n",
        "    "
      ],
      "metadata": {
        "colab": {
          "base_uri": "https://localhost:8080/"
        },
        "id": "G1dY-fExVSFl",
        "outputId": "0be61517-f096-4e87-c154-c7a28fc5d695"
      },
      "execution_count": 210,
      "outputs": [
        {
          "output_type": "stream",
          "name": "stdout",
          "text": [
            "LogisticRegression\n"
          ]
        },
        {
          "output_type": "stream",
          "name": "stderr",
          "text": [
            "/usr/local/lib/python3.7/dist-packages/sklearn/linear_model/_logistic.py:818: ConvergenceWarning: lbfgs failed to converge (status=1):\n",
            "STOP: TOTAL NO. of ITERATIONS REACHED LIMIT.\n",
            "\n",
            "Increase the number of iterations (max_iter) or scale the data as shown in:\n",
            "    https://scikit-learn.org/stable/modules/preprocessing.html\n",
            "Please also refer to the documentation for alternative solver options:\n",
            "    https://scikit-learn.org/stable/modules/linear_model.html#logistic-regression\n",
            "  extra_warning_msg=_LOGISTIC_SOLVER_CONVERGENCE_MSG,\n"
          ]
        },
        {
          "output_type": "stream",
          "name": "stdout",
          "text": [
            "train score: 0.8269897593701881\n",
            "\n",
            "test score: 0.830159761440685\n",
            "\n",
            "\n",
            "RandomForest\n",
            "train score: 0.9997072745835802\n",
            "\n",
            "test score: 0.9150049144551619\n",
            "\n",
            "\n",
            "Decision Tree\n",
            "train score: 1.0\n",
            "\n",
            "test score: 0.8835024239092408\n",
            "\n",
            "\n",
            "KNN\n",
            "train score: 0.8951400441230017\n",
            "\n",
            "test score: 0.8606571487275171\n",
            "\n",
            "\n"
          ]
        }
      ]
    },
    {
      "cell_type": "markdown",
      "source": [
        "## The Random Forest Classifier is chosen for our model"
      ],
      "metadata": {
        "id": "AzPNTyayVSFl"
      }
    },
    {
      "cell_type": "code",
      "source": [
        "from sklearn.ensemble import RandomForestClassifier\n",
        "from sklearn.metrics import accuracy_score, precision_score, recall_score, f1_score, confusion_matrix\n",
        "\n",
        "clf = RandomForestClassifier(n_estimators=50, random_state=47).fit(x_train, y_train)\n",
        "\n",
        "# sum(y_test)\n",
        "# clf.score(X_test, y_test)\n",
        "\n",
        "y_predicted = clf.predict(x_test)\n",
        "confusion = confusion_matrix(y_test, y_predicted)\n",
        "#confusion\n",
        "#sum(y_predicted)\n",
        "\n",
        "print('Recall: {:.3f}'.format(recall_score(y_test, y_predicted)))\n",
        "print('Precision: {:.3f}'.format(precision_score(y_test, y_predicted)))\n",
        "print('Accuracy: {:.3f}'.format(accuracy_score(y_test, y_predicted)))\n",
        "print('F1: {:.3f}'.format(f1_score(y_test, y_predicted)))\n",
        "confusion = confusion_matrix(y_test, y_predicted)\n",
        "print(confusion)\n",
        "print('Feature importances: {}'.format(clf.feature_importances_))"
      ],
      "metadata": {
        "colab": {
          "base_uri": "https://localhost:8080/"
        },
        "id": "mQtdQjOxonej",
        "outputId": "0e21e3c6-fb88-4f65-b948-8eea0480bd9c"
      },
      "execution_count": 211,
      "outputs": [
        {
          "output_type": "stream",
          "name": "stdout",
          "text": [
            "Recall: 0.545\n",
            "Precision: 0.925\n",
            "Accuracy: 0.915\n",
            "F1: 0.686\n",
            "[[148154   1343]\n",
            " [ 13901  16683]]\n",
            "Feature importances: [0.04882227 0.02932562 0.04748965 0.0819847  0.08195788 0.28740713\n",
            " 0.14625871 0.15750187 0.11925217]\n"
          ]
        }
      ]
    }
  ]
}